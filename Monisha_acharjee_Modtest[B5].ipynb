{
  "nbformat": 4,
  "nbformat_minor": 0,
  "metadata": {
    "colab": {
      "provenance": [],
      "authorship_tag": "ABX9TyM8p+aMMtQRfMJw/uEXmpxq",
      "include_colab_link": true
    },
    "kernelspec": {
      "name": "python3",
      "display_name": "Python 3"
    },
    "language_info": {
      "name": "python"
    }
  },
  "cells": [
    {
      "cell_type": "markdown",
      "metadata": {
        "id": "view-in-github",
        "colab_type": "text"
      },
      "source": [
        "<a href=\"https://colab.research.google.com/github/Turna957/Assignment/blob/main/Monisha_acharjee_Modtest%5BB5%5D.ipynb\" target=\"_parent\"><img src=\"https://colab.research.google.com/assets/colab-badge.svg\" alt=\"Open In Colab\"/></a>"
      ]
    },
    {
      "cell_type": "markdown",
      "source": [
        "Develop a module having a function namely getMissingVals(list, endOfFirstList, startOf2ndList): returns either \"No missing Val\" message or  returns the list of missing values that comes after splitting the list. Upload your module to your GitHub repository, and then download it and save it to you current directory and use that module"
      ],
      "metadata": {
        "id": "RlI2w5YlINwL"
      }
    },
    {
      "cell_type": "code",
      "source": [
        "import missingvals1 as aa"
      ],
      "metadata": {
        "id": "AyJUFGfKO84y"
      },
      "execution_count": 24,
      "outputs": []
    },
    {
      "cell_type": "code",
      "source": [
        "end_of_first_list = 50\n",
        "start_of_second_list = 51\n",
        "print(aa.getMissingVals(list(range(1, 101)), end_of_first_list, start_of_second_list))"
      ],
      "metadata": {
        "colab": {
          "base_uri": "https://localhost:8080/"
        },
        "id": "LsXoZcvVPJ3S",
        "outputId": "ecc64c31-7bd2-45ca-e46b-553b5089537f"
      },
      "execution_count": 25,
      "outputs": [
        {
          "output_type": "stream",
          "name": "stdout",
          "text": [
            "[1, 2, 3, 4, 5, 6, 7, 8, 9, 10, 11, 12, 13, 14, 15, 16, 17, 18, 19, 20, 21, 22, 23, 24, 25, 26, 27, 28, 29, 30, 31, 32, 33, 34, 35, 36, 37, 38, 39, 40, 41, 42, 43, 44, 45, 46, 47, 48, 49, 50, 51]\n"
          ]
        }
      ]
    }
  ]
}