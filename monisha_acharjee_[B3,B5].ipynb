{
  "nbformat": 4,
  "nbformat_minor": 0,
  "metadata": {
    "colab": {
      "provenance": [],
      "authorship_tag": "ABX9TyNAUmBx+tdSOWPZnRYaWlEH",
      "include_colab_link": true
    },
    "kernelspec": {
      "name": "python3",
      "display_name": "Python 3"
    },
    "language_info": {
      "name": "python"
    }
  },
  "cells": [
    {
      "cell_type": "markdown",
      "metadata": {
        "id": "view-in-github",
        "colab_type": "text"
      },
      "source": [
        "<a href=\"https://colab.research.google.com/github/Turna957/Assignment/blob/main/monisha_acharjee_%5BB3%2CB5%5D.ipynb\" target=\"_parent\"><img src=\"https://colab.research.google.com/assets/colab-badge.svg\" alt=\"Open In Colab\"/></a>"
      ]
    },
    {
      "cell_type": "code",
      "source": [
        "#Python variables,datatypes and number\n",
        "age = 25\n",
        "name = \"Alice\"\n",
        "height = 5.7\n",
        "is_student = True\n",
        "fruits = [\"apple\", \"banana\", \"cherry\"]\n",
        "person = {\"name\": \"Alice\", \"age\": 25}\n",
        "\n",
        "x, y, z = 10, 20, 30\n",
        "print(x, y, z)\n",
        "\n",
        "x = 5\n",
        "\n",
        "print(x)\n",
        "x = 10\n",
        "print(x)\n",
        "\n",
        "print(type(x))\n",
        "print(type(name))\n",
        "\n",
        "x = 10\n",
        "def my_function(): print(x)\n",
        "my_function()\n",
        "\n",
        "def my_function(): x = 5\n",
        "print(x)\n",
        "a = 10\n",
        "b = 5\n",
        "result = a + b\n",
        "print(result)\n",
        "\n",
        "result = a - b\n",
        "print(result)\n",
        "\n",
        "\n",
        "result = a * b\n",
        "print(result)\n",
        "\n",
        "result = a / b\n",
        "print(result)\n",
        "\n",
        "x = 10\n",
        "x += 5\n",
        "print(x)\n",
        "\n",
        "x -= 3\n",
        "print(x)\n",
        "x = 10\n",
        "print(x)\n",
        "print(type(x))\n",
        "y = 3.14\n",
        "print(y)\n",
        "print(type(y))\n",
        "\n",
        "name = \"Alice\"\n",
        "print(name)\n",
        "print(type(name))\n",
        "\n",
        "is_active = True\n",
        "print(is_active)\n",
        "print(type(is_active))\n",
        "\n",
        "fruits = [\"apple\", \"banana\", \"cherry\"]\n",
        "print(fruits)\n",
        "print(type(fruits))\n",
        "\n",
        "coordinates = (10, 20)\n",
        "print(coordinates)\n",
        "print(type(coordinates))\n",
        "\n"
      ],
      "metadata": {
        "colab": {
          "base_uri": "https://localhost:8080/"
        },
        "id": "-DcG8ZOUXhF-",
        "outputId": "04f3409e-8826-4612-acf3-fd774ed759ef"
      },
      "execution_count": 1,
      "outputs": [
        {
          "output_type": "stream",
          "name": "stdout",
          "text": [
            "10 20 30\n",
            "5\n",
            "10\n",
            "<class 'int'>\n",
            "<class 'str'>\n",
            "10\n",
            "10\n",
            "15\n",
            "5\n",
            "50\n",
            "2.0\n",
            "15\n",
            "12\n",
            "10\n",
            "<class 'int'>\n",
            "3.14\n",
            "<class 'float'>\n",
            "Alice\n",
            "<class 'str'>\n",
            "True\n",
            "<class 'bool'>\n",
            "['apple', 'banana', 'cherry']\n",
            "<class 'list'>\n",
            "(10, 20)\n",
            "<class 'tuple'>\n"
          ]
        }
      ]
    }
  ]
}