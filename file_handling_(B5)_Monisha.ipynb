{
  "nbformat": 4,
  "nbformat_minor": 0,
  "metadata": {
    "colab": {
      "provenance": [],
      "authorship_tag": "ABX9TyNVDfJm97eROnmbIy2v2qcT",
      "include_colab_link": true
    },
    "kernelspec": {
      "name": "python3",
      "display_name": "Python 3"
    },
    "language_info": {
      "name": "python"
    }
  },
  "cells": [
    {
      "cell_type": "markdown",
      "metadata": {
        "id": "view-in-github",
        "colab_type": "text"
      },
      "source": [
        "<a href=\"https://colab.research.google.com/github/Turna957/Assignment/blob/main/file_handling_(B5)_Monisha.ipynb\" target=\"_parent\"><img src=\"https://colab.research.google.com/assets/colab-badge.svg\" alt=\"Open In Colab\"/></a>"
      ]
    },
    {
      "cell_type": "code",
      "source": [
        "# opening Files\n",
        "open('python1.text','w')"
      ],
      "metadata": {
        "colab": {
          "base_uri": "https://localhost:8080/"
        },
        "id": "GhbDptg1iuJI",
        "outputId": "9646003c-1400-4f0d-a415-77cbfa5967fb"
      },
      "execution_count": null,
      "outputs": [
        {
          "output_type": "execute_result",
          "data": {
            "text/plain": [
              "<_io.TextIOWrapper name='python1.text' mode='w' encoding='UTF-8'>"
            ]
          },
          "metadata": {},
          "execution_count": 78
        }
      ]
    },
    {
      "cell_type": "code",
      "source": [
        "file = open('python1.text','w')\n",
        "file.write('hello python\\n')\n",
        "file.write('hello algobangla\\n')\n"
      ],
      "metadata": {
        "colab": {
          "base_uri": "https://localhost:8080/"
        },
        "id": "GcIfg6jHkHVC",
        "outputId": "5f71fb95-4ba9-4979-b695-acb8df7c0073"
      },
      "execution_count": null,
      "outputs": [
        {
          "output_type": "execute_result",
          "data": {
            "text/plain": [
              "17"
            ]
          },
          "metadata": {},
          "execution_count": 67
        }
      ]
    },
    {
      "cell_type": "code",
      "source": [
        "# closing file\n",
        "file = open('python1.text','w')\n",
        "file.write('algobangla')\n",
        "file.close()"
      ],
      "metadata": {
        "id": "hUThMeeSn71v"
      },
      "execution_count": null,
      "outputs": []
    },
    {
      "cell_type": "code",
      "source": [
        "# reading files\n",
        "file = open('python1.text','r')\n",
        "a = file.read()\n",
        "print(a)\n",
        "file.close()\n"
      ],
      "metadata": {
        "colab": {
          "base_uri": "https://localhost:8080/"
        },
        "id": "3dBeqrLBprQy",
        "outputId": "399c193b-9cf3-4c22-8d27-d314d07057e1"
      },
      "execution_count": null,
      "outputs": [
        {
          "output_type": "stream",
          "name": "stdout",
          "text": [
            "hello python\n",
            "hello algobangla\n",
            "\n"
          ]
        }
      ]
    },
    {
      "cell_type": "code",
      "source": [
        "file = open(\"python1.text\",'r')\n",
        "a = file.readline()\n",
        "print(a)\n",
        "file.close()\n"
      ],
      "metadata": {
        "colab": {
          "base_uri": "https://localhost:8080/"
        },
        "id": "xcmkdJcAryZu",
        "outputId": "545f6e30-907a-4d2d-bca3-3ea6fedd7f9f"
      },
      "execution_count": null,
      "outputs": [
        {
          "output_type": "stream",
          "name": "stdout",
          "text": [
            "hello python\n",
            "\n"
          ]
        }
      ]
    },
    {
      "cell_type": "code",
      "source": [
        "#updateing file\n",
        "file = open('python1.text','a')\n",
        "file.write('nice')\n",
        "file.close()"
      ],
      "metadata": {
        "id": "dCWZFOBXwl3d"
      },
      "execution_count": null,
      "outputs": []
    },
    {
      "cell_type": "code",
      "source": [
        "# searching file\n",
        "file = open(\"python1.text\", 'r')\n",
        "lines = file.readlines()\n",
        "for line_num, line in enumerate(lines, 1):\n",
        "    if 'search_text' in line:\n",
        "        print(f\"Found 'search_text' in line {line_num}: {line.strip()}\")\n",
        "file.close()"
      ],
      "metadata": {
        "id": "XJ8N-zHRu14P"
      },
      "execution_count": null,
      "outputs": []
    },
    {
      "cell_type": "code",
      "source": [
        "# delete file\n",
        "import os\n",
        "os.remove('python1.text')\n"
      ],
      "metadata": {
        "id": "6CKbFyY8sjyc"
      },
      "execution_count": null,
      "outputs": []
    }
  ]
}