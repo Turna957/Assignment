{
  "nbformat": 4,
  "nbformat_minor": 0,
  "metadata": {
    "colab": {
      "provenance": [],
      "authorship_tag": "ABX9TyOs89ZbQoSntJlCthaK5tIj",
      "include_colab_link": true
    },
    "kernelspec": {
      "name": "python3",
      "display_name": "Python 3"
    },
    "language_info": {
      "name": "python"
    }
  },
  "cells": [
    {
      "cell_type": "markdown",
      "metadata": {
        "id": "view-in-github",
        "colab_type": "text"
      },
      "source": [
        "<a href=\"https://colab.research.google.com/github/Turna957/Assignment/blob/main/Copy_of_Monisha_Acharjee(B5).22.12.24%20ipynb\" target=\"_parent\"><img src=\"https://colab.research.google.com/assets/colab-badge.svg\" alt=\"Open In Colab\"/></a>"
      ]
    },
    {
      "cell_type": "code",
      "execution_count": null,
      "metadata": {
        "colab": {
          "base_uri": "https://localhost:8080/"
        },
        "id": "60KClbPkCjMe",
        "outputId": "39681e51-9636-4f76-af71-4ab72d8eb3dd"
      },
      "outputs": [
        {
          "output_type": "stream",
          "name": "stdout",
          "text": [
            "1\n",
            "2\n",
            "3\n"
          ]
        }
      ],
      "source": [
        "# Casting in python\n",
        "x = int(1)\n",
        "y = int(2.8)\n",
        "z = int(\"3\")\n",
        "print(x)\n",
        "print(y)\n",
        "print(z)\n",
        "\n"
      ]
    },
    {
      "cell_type": "markdown",
      "source": [
        "y = int(2.8) ;\n",
        "When a float is cast to an integer, the decimal part is truncated (removed)."
      ],
      "metadata": {
        "id": "YReYLa8aH1IX"
      }
    },
    {
      "cell_type": "code",
      "source": [
        "Casting ( Floats) in python\n",
        "x = float(1)\n",
        "y = float(2.8)\n",
        "z = float(\"3\")\n",
        "w = float(\"4.2\")\n",
        "print (x)\n",
        "print (y)\n",
        "print (z)\n",
        "print(w)"
      ],
      "metadata": {
        "colab": {
          "base_uri": "https://localhost:8080/"
        },
        "id": "x4ogqjnJIKFD",
        "outputId": "06794a07-1b44-4aec-9dc5-22d6ee4e8485"
      },
      "execution_count": null,
      "outputs": [
        {
          "output_type": "stream",
          "name": "stdout",
          "text": [
            "1.0\n",
            "2.8\n",
            "3.0\n",
            "4.2\n"
          ]
        }
      ]
    },
    {
      "cell_type": "code",
      "source": [
        "Casting (string) in python\n",
        "x = str(\"s1\")\n",
        "y = str(2)\n",
        "z = str(3.0)\n",
        "\n",
        "x = str(\"s1\")\n",
        "y = str(2)\n",
        "z = str(3.0)\n",
        "print(x)\n",
        "print(y)\n",
        "print(z)"
      ],
      "metadata": {
        "colab": {
          "base_uri": "https://localhost:8080/"
        },
        "id": "oRc1hq8ZJkwS",
        "outputId": "9ea197a5-087c-43cf-bc0f-2eec1cb7c2cd"
      },
      "execution_count": null,
      "outputs": [
        {
          "output_type": "stream",
          "name": "stdout",
          "text": [
            "s1\n",
            "2\n",
            "3.0\n"
          ]
        }
      ]
    },
    {
      "cell_type": "code",
      "source": [
        "print(str(35.82))"
      ],
      "metadata": {
        "colab": {
          "base_uri": "https://localhost:8080/"
        },
        "id": "lFYFgcoeLLha",
        "outputId": "df5c9450-4ef2-4757-eaf6-084f78079ec2"
      },
      "execution_count": null,
      "outputs": [
        {
          "output_type": "stream",
          "name": "stdout",
          "text": [
            "35.82\n"
          ]
        }
      ]
    },
    {
      "cell_type": "code",
      "source": [
        "string in python\n",
        "print(\"Hello\")\n",
        "print('Hello')"
      ],
      "metadata": {
        "colab": {
          "base_uri": "https://localhost:8080/"
        },
        "id": "MR-HUBeHL9mf",
        "outputId": "f8072907-8a87-473f-a535-7d3c0de05529"
      },
      "execution_count": null,
      "outputs": [
        {
          "output_type": "stream",
          "name": "stdout",
          "text": [
            "Hello\n",
            "Hello\n"
          ]
        }
      ]
    },
    {
      "cell_type": "code",
      "source": [
        "Quotes Inside Quotes\n",
        "print(\"It's alright\")\n",
        "print(\"He is called 'Johnny'\")\n",
        "print('He is called \"Johnny\"')"
      ],
      "metadata": {
        "colab": {
          "base_uri": "https://localhost:8080/"
        },
        "id": "6aL_uXOCMKWi",
        "outputId": "bd07f7a1-6c22-426b-ce0d-50322b4c5015"
      },
      "execution_count": null,
      "outputs": [
        {
          "output_type": "stream",
          "name": "stdout",
          "text": [
            "It's alright\n",
            "He is called 'Johnny'\n",
            "He is called \"Johnny\"\n"
          ]
        }
      ]
    },
    {
      "cell_type": "code",
      "source": [
        "Assign String to a Variable\n",
        "a = \"Hello\"\n",
        "print(a)"
      ],
      "metadata": {
        "colab": {
          "base_uri": "https://localhost:8080/"
        },
        "id": "5klVtdtrM_Tx",
        "outputId": "2be949e0-a902-4cf8-8b31-ba0e1ebb9b58"
      },
      "execution_count": null,
      "outputs": [
        {
          "output_type": "stream",
          "name": "stdout",
          "text": [
            "Hello\n"
          ]
        }
      ]
    },
    {
      "cell_type": "code",
      "source": [
        "Multiline Strings\n",
        "a = \"\"\"Lorem ipsum dolor sit amet,\n",
        "consectetur adipiscing elit,\n",
        "sed do eiusmod tempor incididunt\n",
        "ut labore et dolore magna aliqua.\"\"\"\n",
        "print(a)"
      ],
      "metadata": {
        "colab": {
          "base_uri": "https://localhost:8080/"
        },
        "id": "bF18iRZZNPh3",
        "outputId": "a81c66da-729a-49dd-b5ef-13ba2544b23b"
      },
      "execution_count": null,
      "outputs": [
        {
          "output_type": "stream",
          "name": "stdout",
          "text": [
            "Lorem ipsum dolor sit amet,\n",
            "consectetur adipiscing elit,\n",
            "sed do eiusmod tempor incididunt\n",
            "ut labore et dolore magna aliqua.\n"
          ]
        }
      ]
    },
    {
      "cell_type": "code",
      "source": [
        "a = '''Lorem ipsum dolor sit amet,\n",
        "consectetur adipiscing elit,\n",
        "sed do eiusmod tempor incididunt\n",
        "ut labore et dolore magna aliqua.'''\n",
        "print(a)"
      ],
      "metadata": {
        "colab": {
          "base_uri": "https://localhost:8080/"
        },
        "id": "yYPqlELLNfxx",
        "outputId": "c1bdd2bb-7c5d-4e26-8b0a-1f88843e5e17"
      },
      "execution_count": null,
      "outputs": [
        {
          "output_type": "stream",
          "name": "stdout",
          "text": [
            "Lorem ipsum dolor sit amet,\n",
            "consectetur adipiscing elit,\n",
            "sed do eiusmod tempor incididunt\n",
            "ut labore et dolore magna aliqua.\n"
          ]
        }
      ]
    },
    {
      "cell_type": "code",
      "source": [
        "Strings are Arrays\n",
        "a = \"Hello, World!\"\n",
        "print(a[1])"
      ],
      "metadata": {
        "colab": {
          "base_uri": "https://localhost:8080/"
        },
        "id": "8dMqLiI8NpO1",
        "outputId": "6c06da2c-9854-49b9-cf72-ad6d61880d58"
      },
      "execution_count": null,
      "outputs": [
        {
          "output_type": "stream",
          "name": "stdout",
          "text": [
            "e\n"
          ]
        }
      ]
    },
    {
      "cell_type": "markdown",
      "source": [
        "a[1] is accessing a specific character within the string stored in the variable a.\n",
        "Strings in Python are indexed, so Indexing starts at 0. a[0] would represent the first character (\"H\" in this case), a[1] represents the second character (\"e\"), and so on.\n",
        "Therefore, print(a[1]) which is \"e\""
      ],
      "metadata": {
        "id": "ZlkLVT9BP4UV"
      }
    },
    {
      "cell_type": "code",
      "source": [
        "Looping\n",
        "for x in \"banana\":\n",
        "  print(x)"
      ],
      "metadata": {
        "colab": {
          "base_uri": "https://localhost:8080/"
        },
        "id": "meiZKV8zQZ5C",
        "outputId": "99c1f251-9a97-4e5f-c1f8-79811748cfed"
      },
      "execution_count": null,
      "outputs": [
        {
          "output_type": "stream",
          "name": "stdout",
          "text": [
            "b\n",
            "a\n",
            "n\n",
            "a\n",
            "n\n",
            "a\n"
          ]
        }
      ]
    },
    {
      "cell_type": "code",
      "source": [
        "string lenth\n",
        "a = \"Hello, World!\"\n",
        "print(len(a))"
      ],
      "metadata": {
        "colab": {
          "base_uri": "https://localhost:8080/"
        },
        "id": "68n6xtRZSYKp",
        "outputId": "f8192b10-a292-42c8-f46e-c0c01b4eb0e1"
      },
      "execution_count": null,
      "outputs": [
        {
          "output_type": "stream",
          "name": "stdout",
          "text": [
            "13\n"
          ]
        }
      ]
    },
    {
      "cell_type": "code",
      "source": [
        "txt = \"The best things in life are free!\"\n",
        "if \"expensive\" not in txt:\n",
        "  print(\"No, 'expensive' is NOT present.\")"
      ],
      "metadata": {
        "colab": {
          "base_uri": "https://localhost:8080/"
        },
        "id": "2DF_DhnXTNCF",
        "outputId": "4989729e-9d18-4833-f8f1-f6970207cad2"
      },
      "execution_count": null,
      "outputs": [
        {
          "output_type": "stream",
          "name": "stdout",
          "text": [
            "No, 'expensive' is NOT present.\n"
          ]
        }
      ]
    },
    {
      "cell_type": "markdown",
      "source": [
        "If the condition in the if statement is true (meaning \"expensive\" is not found in txt), then this line will be executed.\n",
        "It will print the message \"No, 'expensive' is NOT present.\" to the console."
      ],
      "metadata": {
        "id": "9tu5e0s4TgUr"
      }
    },
    {
      "cell_type": "code",
      "source": [
        " Boolean values\n",
        "print(10 > 9)\n",
        "print(10 == 9)\n",
        "print(10 < 9)"
      ],
      "metadata": {
        "colab": {
          "base_uri": "https://localhost:8080/"
        },
        "id": "rIE4SeHPTh74",
        "outputId": "0cb27641-1b35-44f8-bc70-9e2e24b10f41"
      },
      "execution_count": null,
      "outputs": [
        {
          "output_type": "stream",
          "name": "stdout",
          "text": [
            "True\n",
            "False\n",
            "False\n"
          ]
        }
      ]
    },
    {
      "cell_type": "code",
      "source": [
        "a = 200\n",
        "b = 33\n",
        "\n",
        "if b > a:\n",
        "  print(\"b is greater than a\")\n",
        "else:\n",
        "  print(\"b is not greater than a\")"
      ],
      "metadata": {
        "colab": {
          "base_uri": "https://localhost:8080/"
        },
        "id": "Bo96LvP_UqrF",
        "outputId": "4e34c941-5608-42ed-d40b-2cd89f5c7298"
      },
      "execution_count": null,
      "outputs": [
        {
          "output_type": "stream",
          "name": "stdout",
          "text": [
            "b is not greater than a\n"
          ]
        }
      ]
    },
    {
      "cell_type": "code",
      "source": [
        "print(bool(\"Hello\"))\n",
        "print(bool(15))"
      ],
      "metadata": {
        "colab": {
          "base_uri": "https://localhost:8080/"
        },
        "id": "srZYLadHUu1A",
        "outputId": "939fadb5-ec43-4fbe-e630-e7bacb274def"
      },
      "execution_count": null,
      "outputs": [
        {
          "output_type": "stream",
          "name": "stdout",
          "text": [
            "True\n",
            "True\n"
          ]
        }
      ]
    },
    {
      "cell_type": "markdown",
      "source": [
        "\"Hello \" and 15 are non empty string and non zero integer is considered True when converted to a Boolean respectively."
      ],
      "metadata": {
        "id": "T1w_PQk8VKns"
      }
    },
    {
      "cell_type": "code",
      "source": [
        "bool(\"abc\")\n",
        "bool(123)\n",
        "bool([\"apple\", \"cherry\", \"banana\"])"
      ],
      "metadata": {
        "colab": {
          "base_uri": "https://localhost:8080/"
        },
        "id": "QskglHosWFJ1",
        "outputId": "37f65b3c-afdc-48bd-f7b8-eba3571772b4"
      },
      "execution_count": null,
      "outputs": [
        {
          "output_type": "execute_result",
          "data": {
            "text/plain": [
              "True"
            ]
          },
          "metadata": {},
          "execution_count": 30
        }
      ]
    },
    {
      "cell_type": "markdown",
      "source": [
        "Almost any value is evaluated to True if it has some sort of content.\n",
        "Any string is True, except empty strings.\n",
        "Any number is True, except 0.\n",
        "Any list, tuple, set, and dictionary are True, except empty ones."
      ],
      "metadata": {
        "id": "VASZryhEWZxU"
      }
    },
    {
      "cell_type": "code",
      "source": [
        "bool(False)\n",
        "bool(None)\n",
        "bool(0)\n",
        "bool(\"\")\n",
        "bool(())\n",
        "bool([])\n",
        "bool({})"
      ],
      "metadata": {
        "colab": {
          "base_uri": "https://localhost:8080/"
        },
        "id": "zwxrwYYnWm4Q",
        "outputId": "46298a68-07fe-4abc-de93-8dace2959567"
      },
      "execution_count": null,
      "outputs": [
        {
          "output_type": "execute_result",
          "data": {
            "text/plain": [
              "False"
            ]
          },
          "metadata": {},
          "execution_count": 31
        }
      ]
    },
    {
      "cell_type": "markdown",
      "source": [
        "bool(None): None is a special keyword in Python representing the absence of a value. It's always evaluated as False when converted to a Boolean\n",
        "Empty list, empty string, empty tuples, these are evaluated as false"
      ],
      "metadata": {
        "id": "Je8pWlX7XCj3"
      }
    },
    {
      "cell_type": "code",
      "source": [],
      "metadata": {
        "id": "GxbcNyzmXrAD"
      },
      "execution_count": null,
      "outputs": []
    },
    {
      "cell_type": "code",
      "source": [
        "class myclass():\n",
        "  def __len__(self):\n",
        "    return 0\n",
        "\n",
        "myobj = myclass()\n",
        "print(bool(myobj))"
      ],
      "metadata": {
        "colab": {
          "base_uri": "https://localhost:8080/"
        },
        "id": "4rY5g4B8bvSV",
        "outputId": "b0ca854b-d05b-4447-f52d-5013b382ffda"
      },
      "execution_count": null,
      "outputs": [
        {
          "output_type": "stream",
          "name": "stdout",
          "text": [
            "False\n"
          ]
        }
      ]
    },
    {
      "cell_type": "markdown",
      "source": [
        "When you call bool(myobj), Python evaluates the boolean value of myobj. The bool() function works as follows:\n",
        "\n",
        "If the object is \"falsy\" (i.e., its length is 0 or it is explicitly defined as False), it will return False.\n",
        "Otherwise, it will return True."
      ],
      "metadata": {
        "id": "FyuJDHGLdRaQ"
      }
    },
    {
      "cell_type": "code",
      "source": [
        "python operators (Additional)\n",
        "print(10 + 5)"
      ],
      "metadata": {
        "colab": {
          "base_uri": "https://localhost:8080/"
        },
        "id": "Kqkr8seldYfO",
        "outputId": "06880296-308a-44de-fc9f-da3c2897c49f"
      },
      "execution_count": null,
      "outputs": [
        {
          "output_type": "stream",
          "name": "stdout",
          "text": [
            "15\n"
          ]
        }
      ]
    },
    {
      "cell_type": "code",
      "source": [
        "Subtraction Operator: -\n",
        "x = 5\n",
        "y = 3\n",
        "print(x-y)\n"
      ],
      "metadata": {
        "colab": {
          "base_uri": "https://localhost:8080/"
        },
        "id": "dcngsr57fAob",
        "outputId": "06b536af-2c30-4859-8a32-7ba0f55eb636"
      },
      "execution_count": null,
      "outputs": [
        {
          "output_type": "stream",
          "name": "stdout",
          "text": [
            "2\n"
          ]
        }
      ]
    },
    {
      "cell_type": "code",
      "source": [
        "Multiplication Operator: *\n",
        "x = 5\n",
        "y = 3\n",
        "print(x*y)"
      ],
      "metadata": {
        "colab": {
          "base_uri": "https://localhost:8080/"
        },
        "id": "q5gX6HlVffFn",
        "outputId": "7e2e6376-0b9f-49ac-fcc2-8b9d3c9962c0"
      },
      "execution_count": null,
      "outputs": [
        {
          "output_type": "stream",
          "name": "stdout",
          "text": [
            "15\n"
          ]
        }
      ]
    },
    {
      "cell_type": "code",
      "source": [
        "Division Operator: /\n",
        "x = 5\n",
        "y = 3\n",
        "print(x/y)"
      ],
      "metadata": {
        "colab": {
          "base_uri": "https://localhost:8080/"
        },
        "id": "-EPOl-1NfxSG",
        "outputId": "9c0a4d8a-b1ef-44a5-8621-db61a5c23fbe"
      },
      "execution_count": null,
      "outputs": [
        {
          "output_type": "stream",
          "name": "stdout",
          "text": [
            "1.6666666666666667\n"
          ]
        }
      ]
    },
    {
      "cell_type": "code",
      "source": [
        "Modulus (remainder of division)\n",
        "Operator: %\n",
        "x = 5\n",
        "y = 3\n",
        "print(x%y)"
      ],
      "metadata": {
        "colab": {
          "base_uri": "https://localhost:8080/"
        },
        "id": "l0KboccHgGvQ",
        "outputId": "bdd1bcae-27a2-4c14-c48a-d55d65ff365a"
      },
      "execution_count": null,
      "outputs": [
        {
          "output_type": "stream",
          "name": "stdout",
          "text": [
            "2\n"
          ]
        }
      ]
    },
    {
      "cell_type": "code",
      "source": [
        "Exponentiation (x raised to the power y)\n",
        "Operator: **\n",
        "x = 5\n",
        "y = 3\n",
        "print(x**y)"
      ],
      "metadata": {
        "colab": {
          "base_uri": "https://localhost:8080/"
        },
        "id": "RBu31Cv8gbi9",
        "outputId": "a7958aed-c02b-4841-8396-343882bfd06d"
      },
      "execution_count": null,
      "outputs": [
        {
          "output_type": "stream",
          "name": "stdout",
          "text": [
            "125\n"
          ]
        }
      ]
    },
    {
      "cell_type": "code",
      "source": [
        "Floor Division (division that rounds down to the nearest integer)\n",
        "Operator: //\n",
        "x = 5\n",
        "y = 3\n",
        "print(x//y)"
      ],
      "metadata": {
        "colab": {
          "base_uri": "https://localhost:8080/"
        },
        "id": "9q2yi4rOg1yQ",
        "outputId": "47ff7f93-10a3-4e4e-9ab2-960835d296fa"
      },
      "execution_count": null,
      "outputs": [
        {
          "output_type": "stream",
          "name": "stdout",
          "text": [
            "1\n"
          ]
        }
      ]
    },
    {
      "cell_type": "markdown",
      "source": [
        "Floor division divides the numbers and then rounds the result down to the nearest whole number (integer)."
      ],
      "metadata": {
        "id": "HBohbirfhRUa"
      }
    },
    {
      "cell_type": "code",
      "source": [
        "Addition Assignment (+=)\n",
        "\n",
        "x = 5\n",
        "x += 3\n",
        "print (x)"
      ],
      "metadata": {
        "colab": {
          "base_uri": "https://localhost:8080/"
        },
        "id": "J_oQ3Vx7hShX",
        "outputId": "4eda60c1-77b5-471d-a7d5-46d59f1a999d"
      },
      "execution_count": null,
      "outputs": [
        {
          "output_type": "stream",
          "name": "stdout",
          "text": [
            "8\n"
          ]
        }
      ]
    },
    {
      "cell_type": "code",
      "source": [
        "Subtraction Assignment (-=)\n",
        "x = 5\n",
        "x -= 3\n",
        "print(x)"
      ],
      "metadata": {
        "colab": {
          "base_uri": "https://localhost:8080/"
        },
        "id": "vDxxb7VgiS7Y",
        "outputId": "3d63270f-6782-43c0-8ca6-236d90b46fdf"
      },
      "execution_count": null,
      "outputs": [
        {
          "output_type": "stream",
          "name": "stdout",
          "text": [
            "2\n"
          ]
        }
      ]
    },
    {
      "cell_type": "code",
      "source": [
        "Floor Division Assignment (//=)\n",
        "x = 5\n",
        "x //= 3\n",
        "print(x)"
      ],
      "metadata": {
        "colab": {
          "base_uri": "https://localhost:8080/"
        },
        "id": "j0HSMtV9ipOA",
        "outputId": "a2876df6-e99c-441c-a867-518ead6782c9"
      },
      "execution_count": null,
      "outputs": [
        {
          "output_type": "stream",
          "name": "stdout",
          "text": [
            "1\n"
          ]
        }
      ]
    },
    {
      "cell_type": "code",
      "source": [
        "Bitwise OR Assignment (|=)\n",
        "x = 5\n",
        "x |= 3\n",
        "print(x)"
      ],
      "metadata": {
        "colab": {
          "base_uri": "https://localhost:8080/"
        },
        "id": "MKhEyItajd2I",
        "outputId": "8a0df547-533f-4eaa-e58c-8950170526f6"
      },
      "execution_count": null,
      "outputs": [
        {
          "output_type": "stream",
          "name": "stdout",
          "text": [
            "7\n"
          ]
        }
      ]
    },
    {
      "cell_type": "markdown",
      "source": [
        "Initial value of x = 5;\n",
        "The binary representation of 5 is:\n",
        "5 = 101\n",
        "Binary of 3 = 011\n",
        "1 | 0 = 1\n",
        "0 | 1 = 1\n",
        "1 | 1 = 1\n",
        "So, the result of 5 | 3 is 111, which is 7 in decimal.\n"
      ],
      "metadata": {
        "id": "rDdyLOcZkNXw"
      }
    },
    {
      "cell_type": "code",
      "source": [
        "Bitwise XOR Assignment (^=)\n",
        "x = 5\n",
        "x ^= 3\n",
        "print(x)"
      ],
      "metadata": {
        "colab": {
          "base_uri": "https://localhost:8080/"
        },
        "id": "BfCSpva_lOFz",
        "outputId": "8b75215c-f02d-43f0-a868-836a81c09c6d"
      },
      "execution_count": null,
      "outputs": [
        {
          "output_type": "stream",
          "name": "stdout",
          "text": [
            "6\n"
          ]
        }
      ]
    },
    {
      "cell_type": "markdown",
      "source": [
        "101  (binary of 5)\n",
        "XOR\n",
        "011  (binary of 3)\n",
        "Here's the breakdown:\n",
        "\n",
        "1 ^ 0 = 1 (bits are different)\n",
        "0 ^ 1 = 1 (bits are different)\n",
        "1 ^ 1 = 0 (bits are the same)\n"
      ],
      "metadata": {
        "id": "iup7KpSlmgsG"
      }
    },
    {
      "cell_type": "code",
      "source": [
        "\n",
        "x = 5  # Reset x to 5 (Binary: 0101)\n",
        "x ^= 3  # Binary: 0011 -> Result: 0110 (6)\n",
        "print(\"After ^=, x =\", x)"
      ],
      "metadata": {
        "colab": {
          "base_uri": "https://localhost:8080/"
        },
        "id": "NKOWYglvnPog",
        "outputId": "e216b4c0-e0b9-43cf-e0eb-a8afeafdc1d1"
      },
      "execution_count": null,
      "outputs": [
        {
          "output_type": "stream",
          "name": "stdout",
          "text": [
            "After ^=, x = 6\n"
          ]
        }
      ]
    },
    {
      "cell_type": "code",
      "source": [
        "Bitwise Right Shift Assignment (>>=)\n",
        "x = 5\n",
        "x >>= 3\n",
        "print(\"After >>=, x =\", x)\n"
      ],
      "metadata": {
        "colab": {
          "base_uri": "https://localhost:8080/"
        },
        "id": "52DSo5fRnjNb",
        "outputId": "2ad52634-1b0b-4d49-884e-193cc02ef965"
      },
      "execution_count": null,
      "outputs": [
        {
          "output_type": "stream",
          "name": "stdout",
          "text": [
            "After >>=, x = 0\n"
          ]
        }
      ]
    },
    {
      "cell_type": "markdown",
      "source": [
        "Shifting the binary number 101 (which is 5 in decimal) by 1 position results in 010 (which is 2 in decimal).\n",
        "Shifting by 2 positions gives 001 (which is 1 in decimal).\n",
        "Shifting by 3 positions results in 000, which is 0 in decimal."
      ],
      "metadata": {
        "id": "SUPrfxbopDkK"
      }
    },
    {
      "cell_type": "code",
      "source": [
        "print(\"Walrus operator example, x =\", (x := 3))"
      ],
      "metadata": {
        "colab": {
          "base_uri": "https://localhost:8080/"
        },
        "id": "7GGafuTwpZdU",
        "outputId": "b3416d47-50af-48a1-a0f4-db61addd1d26"
      },
      "execution_count": null,
      "outputs": [
        {
          "output_type": "stream",
          "name": "stdout",
          "text": [
            "Walrus operator example, x = 3\n"
          ]
        }
      ]
    },
    {
      "cell_type": "code",
      "source": [
        "numbers = [1, 2, 3, 4, 5]\n",
        "if (n := len(numbers)) > 3:\n",
        "    print(f\"The list is long, it has {n} elements.\")"
      ],
      "metadata": {
        "colab": {
          "base_uri": "https://localhost:8080/"
        },
        "id": "G2pNmFJirWR0",
        "outputId": "795cc0d9-f3bb-486a-b122-4aec75ffeb57"
      },
      "execution_count": null,
      "outputs": [
        {
          "output_type": "stream",
          "name": "stdout",
          "text": [
            "The list is long, it has 5 elements.\n"
          ]
        }
      ]
    },
    {
      "cell_type": "code",
      "source": [
        "Colon (:)\n",
        "lst = [1, 2, 3, 4, 5]\n",
        "sublist = lst[1:4]\n",
        "print (sublist)"
      ],
      "metadata": {
        "colab": {
          "base_uri": "https://localhost:8080/"
        },
        "id": "bH9z5eGMp1u3",
        "outputId": "416b0ae4-a876-4c92-cd06-f3b5c31ec67d"
      },
      "execution_count": null,
      "outputs": [
        {
          "output_type": "stream",
          "name": "stdout",
          "text": [
            "[2, 3, 4]\n"
          ]
        }
      ]
    },
    {
      "cell_type": "code",
      "source": [
        "carriage return\n",
        "\n",
        "print(\"Hello, World!\\rPython\")"
      ],
      "metadata": {
        "colab": {
          "base_uri": "https://localhost:8080/"
        },
        "id": "uHROFtM8rtu_",
        "outputId": "d37a0cfc-6191-4678-c42d-0c2e8e48be6b"
      },
      "execution_count": null,
      "outputs": [
        {
          "output_type": "stream",
          "name": "stdout",
          "text": [
            "Hello, World!\rPython\n"
          ]
        }
      ]
    },
    {
      "cell_type": "markdown",
      "source": [
        "\\r (Carriage Return): This is a special character that moves the cursor to the beginning of the current line without advancing to the next line.\n",
        "so, the final outpu is `Python, World!"
      ],
      "metadata": {
        "id": "gKwiX7B_sKeb"
      }
    },
    {
      "cell_type": "code",
      "source": [
        "import time\n",
        "\n",
        "for i in range(1, 6):\n",
        "    print(f\"Loading... {i}/5\", end=\"\\r\")\n",
        "    time.sleep(1)\n",
        "\n",
        "print(\"Done!\")"
      ],
      "metadata": {
        "colab": {
          "base_uri": "https://localhost:8080/"
        },
        "id": "rSaOyqi3uOij",
        "outputId": "d575cc36-7351-4889-dedd-e0c7c1dbee14"
      },
      "execution_count": null,
      "outputs": [
        {
          "output_type": "stream",
          "name": "stdout",
          "text": [
            "Done!\n"
          ]
        }
      ]
    },
    {
      "cell_type": "markdown",
      "source": [
        "Loading... 1/5\n",
        "Loading... 2/5\n",
        "Loading... 3/5\n",
        "Loading... 4/5\n",
        "Loading... 5/5"
      ],
      "metadata": {
        "id": "dUyF-Z42ucbA"
      }
    },
    {
      "cell_type": "code",
      "source": [
        "\n",
        "print(\"Hello, World!\\fPython\")"
      ],
      "metadata": {
        "colab": {
          "base_uri": "https://localhost:8080/"
        },
        "id": "wKhzv4-cud3q",
        "outputId": "5fa55838-3f28-40f8-9b0a-996eec6db49d"
      },
      "execution_count": null,
      "outputs": [
        {
          "output_type": "stream",
          "name": "stdout",
          "text": [
            "Hello, World!\fPython\n"
          ]
        }
      ]
    },
    {
      "cell_type": "markdown",
      "source": [
        "\"Hello, World!\" is printed first.\n",
        "The \\f form feed character is encountered, which moves the cursor to the start of a new \"page\" or section, depending on the environment. In many modern consoles or text editors, it can cause a new line or some space, but it may not produce visible results in some environments.\n",
        "\"Python\" is then printed, likely starting at the new line or space caused by the form feed.\n",
        "output;\n",
        "Hello, World!\n",
        "Python\n",
        "\n",
        "\n",
        "\n"
      ],
      "metadata": {
        "id": "JOevnbtLu0FJ"
      }
    }
  ]
}