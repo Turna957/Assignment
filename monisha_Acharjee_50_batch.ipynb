{
  "nbformat": 4,
  "nbformat_minor": 0,
  "metadata": {
    "colab": {
      "provenance": [],
      "authorship_tag": "ABX9TyNOBVugP7vcKOEhx6wPAB1d",
      "include_colab_link": true
    },
    "kernelspec": {
      "name": "python3",
      "display_name": "Python 3"
    },
    "language_info": {
      "name": "python"
    }
  },
  "cells": [
    {
      "cell_type": "markdown",
      "metadata": {
        "id": "view-in-github",
        "colab_type": "text"
      },
      "source": [
        "<a href=\"https://colab.research.google.com/github/Turna957/Assignment/blob/main/monisha_Acharjee_50_batch.ipynb\" target=\"_parent\"><img src=\"https://colab.research.google.com/assets/colab-badge.svg\" alt=\"Open In Colab\"/></a>"
      ]
    },
    {
      "cell_type": "code",
      "execution_count": null,
      "metadata": {
        "id": "_9gabjRbCNot"
      },
      "outputs": [],
      "source": []
    },
    {
      "cell_type": "markdown",
      "source": [
        "def addComplex( z1, z2):\n",
        "    return z1 + z2\n",
        "\n",
        "li1 = [complex(,2+) for _ in range(6)]\n",
        "li2 = [complex(,2+) for _ in range(2,14,2)]\n",
        "\n",
        "li3 = []\n",
        "for i,j in zip(li1,li2):\n",
        "    li3.append(addComplex(i,j))\n",
        "\n",
        "print(f\"li1 = {li1}\\nli2 = {li2}\\nli3= {li3}\")\n",
        "enc_mess = bytes(str(li3).encode('utf-16'))\n",
        "\n",
        "print(f\"Encoded Message Size of type{type(enc_mess)}: \",sys.getsizeof(enc_mess))\n",
        "print(f\"List Size of type{type(li3)}: \",sys.getsizeof(li3))\n",
        "print(f\"Encoded Message Size of type{type(str(li3))}: \",sys.getsizeof(str(li3)))\n",
        "print(\"Original list after addition\", li3)\n",
        "print(f\"Encoded Message: {enc_mess}\")\n",
        "\n",
        "#print(bytes(str(li3), 'utf-16'))\n",
        "\n",
        "\n",
        "\n",
        "\n",
        "Certainly, let's break down the given Python code:\n",
        "1. Function Definition:\n",
        " -def addComplex( z1, z2):\n",
        "       - This line defines a function named addComplex that takes two arguments, z1 and z2, which are                                                             assumed to be complex numbers.\n",
        "- return z1 + z2\n",
        "      - This line returns the sum of the two input complex numbers.\n",
        "2. List Creation:\n",
        " - li1 = [complex(,2+) for _ in range(6)]\n",
        "       -This line creates a list named li1 using a list comprehension.\n",
        "       - complex(,2+) creates a complex number where the real part is the current value of the loop variable () and the imaginary part is 2+.\n",
        "        - for _ in range(6) iterates through numbers from 0 to 5 (inclusive).\n",
        " -li2 = [complex(,2+) for _ in range(2,14,2)]\n",
        "        -This line creates another list named li2 using a similar list comprehension.\n",
        "        -It iterates through numbers from 2 to 12 (inclusive) with a step of 2.\n",
        "3. List Addition:\n",
        " -li3 = []\n",
        "       -This line creates an empty list named li3 to store the results.\n",
        " - for i,j in zip(li1,li2):\n",
        "       -This line iterates through the elements of li1 and li2 simultaneously using the zip() function.\n",
        "        -i and j represent the corresponding elements from li1 and li2 in each iteration.\n",
        " - li3.append(addComplex(i,j))\n",
        "        -This line calls the addComplex function with the current i and j values.\n",
        "         -The result of the addition is appended to the li3 list.\n",
        "4. Printing Results:\n",
        " -print(f\"li1 = {li1}\\nli2 = {li2}\\nli3= {li3}\")\n",
        "        - This line prints the contents of the three lists (li1, li2, and li3) in a formatted way.\n",
        "5. Encoding and Size Calculations:\n",
        " - enc_mess = bytes(str(li3).encode('utf-16'))\n",
        "         -This line converts the li3 list to a string using str(li3).\n",
        "          -Then, it encodes the string using encode('utf-16') into a sequence of bytes.\n",
        "           -Finally, it converts the encoded string into a bytes object.\n",
        " -print(f\"Encoded Message Size of type{type(enc_mess)}: \",sys.getsizeof(enc_mess))\n",
        "           - This line prints the size (in bytes) of the enc_mess object using sys.getsizeof().\n",
        " -print(f\"List Size of type{type(li3)}: \",sys.getsizeof(li3))\n",
        "           -This line prints the size (in bytes) of the li3 list.\n",
        " -print(f\"Encoded Message Size of type{type(str(li3))}: \",sys.getsizeof(str(li3)))\n",
        "          -This line prints the size (in bytes) of the string representation of li3.\n",
        " -print(\"Original list after addition\", li3)\n",
        "          -This line prints the original li3 list.\n",
        " - print(f\"Encoded Message: {enc_mess}\")\n",
        "           - This line prints the encoded message"
      ],
      "metadata": {
        "id": "GnH1cy_8CVCM"
      }
    }
  ]
}