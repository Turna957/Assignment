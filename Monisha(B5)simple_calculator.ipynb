{
  "nbformat": 4,
  "nbformat_minor": 0,
  "metadata": {
    "colab": {
      "provenance": [],
      "authorship_tag": "ABX9TyPMn6Ty/KWAg8+fHbIV74qK",
      "include_colab_link": true
    },
    "kernelspec": {
      "name": "python3",
      "display_name": "Python 3"
    },
    "language_info": {
      "name": "python"
    }
  },
  "cells": [
    {
      "cell_type": "markdown",
      "metadata": {
        "id": "view-in-github",
        "colab_type": "text"
      },
      "source": [
        "<a href=\"https://colab.research.google.com/github/Turna957/Assignment/blob/main/Monisha(B5)simple_calculator.ipynb\" target=\"_parent\"><img src=\"https://colab.research.google.com/assets/colab-badge.svg\" alt=\"Open In Colab\"/></a>"
      ]
    },
    {
      "cell_type": "markdown",
      "source": [
        "Develpo a simple calculator using a module\n"
      ],
      "metadata": {
        "id": "mp80yfw4k_en"
      }
    },
    {
      "cell_type": "code",
      "source": [
        "  \"/content/simple_calculator.py\",\n",
        "\n"
      ],
      "metadata": {
        "colab": {
          "base_uri": "https://localhost:8080/"
        },
        "id": "YdQRTTeMliS6",
        "outputId": "3164e335-1600-4e2e-e9a6-668d9b46959a"
      },
      "execution_count": null,
      "outputs": [
        {
          "output_type": "execute_result",
          "data": {
            "text/plain": [
              "('/content/simple_calculator.py',)"
            ]
          },
          "metadata": {},
          "execution_count": 4
        }
      ]
    },
    {
      "cell_type": "code",
      "source": [
        "import simple_calculator"
      ],
      "metadata": {
        "colab": {
          "base_uri": "https://localhost:8080/"
        },
        "id": "MpFpoHt6tKKl",
        "outputId": "cdac7792-4742-4fa3-fb22-6118716e4926"
      },
      "execution_count": null,
      "outputs": [
        {
          "output_type": "stream",
          "name": "stdout",
          "text": [
            "Enter 1 to add, \n",
            "2 to subtract, \n",
            "3 to multiply, \n",
            "4 for division, \n",
            "5 for power, \n",
            "6 for modulus\n",
            "0 to exit\n",
            "Your Choice:1\n",
            "Enter a:5\n",
            "Enter b:7\n",
            "12\n",
            "Enter 1 to add, \n",
            "2 to subtract, \n",
            "3 to multiply, \n",
            "4 for division, \n",
            "5 for power, \n",
            "6 for modulus\n",
            "0 to exit\n",
            "Your Choice:2\n",
            "Enter a:4\n",
            "Enter b:6\n",
            "2\n",
            "Enter 1 to add, \n",
            "2 to subtract, \n",
            "3 to multiply, \n",
            "4 for division, \n",
            "5 for power, \n",
            "6 for modulus\n",
            "0 to exit\n",
            "Your Choice:3\n",
            "Enter a:100\n",
            "Enter b:6700\n",
            "670000\n",
            "Enter 1 to add, \n",
            "2 to subtract, \n",
            "3 to multiply, \n",
            "4 for division, \n",
            "5 for power, \n",
            "6 for modulus\n",
            "0 to exit\n",
            "Your Choice:4\n",
            "Enter a:5000\n",
            "Enter b:3675\n",
            "1.3605442176870748\n",
            "Enter 1 to add, \n",
            "2 to subtract, \n",
            "3 to multiply, \n",
            "4 for division, \n",
            "5 for power, \n",
            "6 for modulus\n",
            "0 to exit\n",
            "Your Choice:5\n",
            "Enter a:67\n",
            "Enter b:32\n",
            "27189028279553414235049966267283185807800188603627566700161\n",
            "Enter 1 to add, \n",
            "2 to subtract, \n",
            "3 to multiply, \n",
            "4 for division, \n",
            "5 for power, \n",
            "6 for modulus\n",
            "0 to exit\n",
            "Your Choice:6\n",
            "Enter a:4\n",
            "Enter b:5\n",
            "4\n",
            "Enter 1 to add, \n",
            "2 to subtract, \n",
            "3 to multiply, \n",
            "4 for division, \n",
            "5 for power, \n",
            "6 for modulus\n",
            "0 to exit\n"
          ]
        }
      ]
    }
  ]
}